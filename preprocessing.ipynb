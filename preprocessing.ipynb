{
 "cells": [
  {
   "cell_type": "code",
   "execution_count": 4,
   "metadata": {
    "collapsed": true
   },
   "outputs": [],
   "source": [
    "import pandas as pd\n",
    "import os\n",
    "from sklearn import preprocessing\n",
    "import time"
   ]
  },
  {
   "cell_type": "code",
   "execution_count": 5,
   "outputs": [],
   "source": [
    "seconds = time.time()\n",
    "%matplotlib inline"
   ],
   "metadata": {
    "collapsed": false
   }
  },
  {
   "cell_type": "code",
   "execution_count": 6,
   "outputs": [
    {
     "name": "stdout",
     "output_type": "stream",
     "text": [
      "This process may take some time (up to 10 minutes) depending on the performance of a computer.\n",
      "\n",
      "\n",
      "\n"
     ]
    }
   ],
   "source": [
    "print(\"This process may take some time (up to 10 minutes) depending on the performance of a computer.\\n\\n\\n\")"
   ],
   "metadata": {
    "collapsed": false
   }
  },
  {
   "cell_type": "code",
   "execution_count": 7,
   "outputs": [],
   "source": [
    "number = \"0123456789\""
   ],
   "metadata": {
    "collapsed": false
   }
  },
  {
   "cell_type": "code",
   "execution_count": 8,
   "outputs": [],
   "source": [
    "# CSV files\n",
    "csv_files = [\n",
    "    \"Monday-WorkingHours.pcap_ISCX\",\n",
    "    \"Tuesday-WorkingHours.pcap_ISCX\",\n",
    "    \"Wednesday-WorkingHours.pcap_ISCX\",\n",
    "    \"Thursday-WorkingHours-Morning-WebAttacks.pcap_ISCX\",\n",
    "    \"Thursday-WorkingHours-Afternoon-Infilteration.pcap_ISCX\",\n",
    "    \"Friday-WorkingHours-Morning.pcap_ISCX\",\n",
    "    \"Friday-WorkingHours-Afternoon-PortScan.pcap_ISCX\",\n",
    "    \"Friday-WorkingHours-Afternoon-DDos.pcap_ISCX\"\n",
    "]"
   ],
   "metadata": {
    "collapsed": false
   }
  },
  {
   "cell_type": "code",
   "execution_count": 9,
   "outputs": [],
   "source": [
    "# Column headers\n",
    "main_labels=[\"Flow ID\",\"Source IP\",\"Source Port\",\"Destination IP\",\"Destination Port\",\"Protocol\",\"Timestamp\",\"Flow Duration\",\"Total Fwd Packets\",\n",
    "   \"Total Backward Packets\",\"Total Length of Fwd Packets\",\"Total Length of Bwd Packets\",\"Fwd Packet Length Max\",\"Fwd Packet Length Min\",\n",
    "   \"Fwd Packet Length Mean\",\"Fwd Packet Length Std\",\"Bwd Packet Length Max\",\"Bwd Packet Length Min\",\"Bwd Packet Length Mean\",\"Bwd Packet Length Std\",\n",
    "   \"Flow Bytes/s\",\"Flow Packets/s\",\"Flow IAT Mean\",\"Flow IAT Std\",\"Flow IAT Max\",\"Flow IAT Min\",\"Fwd IAT Total\",\"Fwd IAT Mean\",\"Fwd IAT Std\",\"Fwd IAT Max\",\n",
    "   \"Fwd IAT Min\",\"Bwd IAT Total\",\"Bwd IAT Mean\",\"Bwd IAT Std\",\"Bwd IAT Max\",\"Bwd IAT Min\",\"Fwd PSH Flags\",\"Bwd PSH Flags\",\"Fwd URG Flags\",\"Bwd URG Flags\",\n",
    "   \"Fwd Header Length\",\"Bwd Header Length\",\"Fwd Packets/s\",\"Bwd Packets/s\",\"Min Packet Length\",\"Max Packet Length\",\"Packet Length Mean\",\"Packet Length Std\",\n",
    "   \"Packet Length Variance\",\"FIN Flag Count\",\"SYN Flag Count\",\"RST Flag Count\",\"PSH Flag Count\",\"ACK Flag Count\",\"URG Flag Count\",\"CWE Flag Count\",\n",
    "   \"ECE Flag Count\",\"Down/Up Ratio\",\"Average Packet Size\",\"Avg Fwd Segment Size\",\"Avg Bwd Segment Size\",\"faulty-Fwd Header Length\",\"Fwd Avg Bytes/Bulk\",\n",
    "   \"Fwd Avg Packets/Bulk\",\"Fwd Avg Bulk Rate\",\"Bwd Avg Bytes/Bulk\",\"Bwd Avg Packets/Bulk\",\"Bwd Avg Bulk Rate\",\"Subflow Fwd Packets\",\"Subflow Fwd Bytes\",\n",
    "   \"Subflow Bwd Packets\",\"Subflow Bwd Bytes\",\"Init_Win_bytes_forward\",\"Init_Win_bytes_backward\",\"act_data_pkt_fwd\",\n",
    "   \"min_seg_size_forward\",\"Active Mean\",\"Active Std\",\"Active Max\",\"Active Min\",\"Idle Mean\",\"Idle Std\",\"Idle Max\",\"Idle Min\",\"Label\",\"External IP\"]"
   ],
   "metadata": {
    "collapsed": false
   }
  },
  {
   "cell_type": "code",
   "execution_count": 10,
   "outputs": [],
   "source": [
    "main_labels2 = main_labels\n",
    "main_labels = (\",\".join(i for i in main_labels))\n",
    "main_labels = main_labels + \"\\n\"\n",
    "flag = True"
   ],
   "metadata": {
    "collapsed": false
   }
  },
  {
   "cell_type": "code",
   "execution_count": 11,
   "outputs": [],
   "source": [
    "for i in range(len(csv_files)):\n",
    "    fp = open(str(i)+\".csv\", \"w\")\n",
    "    fp.write(main_labels)\n",
    "    with open(\"./CSVs/\"+csv_files[i]+\".csv\", \"r\") as file:\n",
    "        while True:\n",
    "            try:\n",
    "                line = file.readline()\n",
    "                if line[0] in number:\n",
    "                    if \" – \" in str(line): ##  if there is \"–\" character (\"–\", Unicode code:8211) in the flow ,  it will be chanced with \"-\" character ( Unicode code:45).\n",
    "                        line = str(line).replace(\" – \",\" - \")\n",
    "                    line = str(line).replace(\"inf\", \"0\")\n",
    "                    line = str(line).replace(\"Infinity\", \"0\")\n",
    "                    line = str(line).replace(\"NaN\", \"0\")\n",
    "\n",
    "                    fp.write(str(line))\n",
    "                else:\n",
    "                    continue\n",
    "            except:\n",
    "                break\n",
    "    fp.close()"
   ],
   "metadata": {
    "collapsed": false
   }
  },
  {
   "cell_type": "code",
   "execution_count": 12,
   "outputs": [],
   "source": [
    "df = pd.read_csv(str(i)+\".csv\",low_memory=False)\n",
    "df = df.fillna(0)"
   ],
   "metadata": {
    "collapsed": false
   }
  },
  {
   "cell_type": "code",
   "execution_count": 13,
   "outputs": [],
   "source": [
    "string_features = [\n",
    "    \"Flow Bytes/s\",\n",
    "    \"Flow Packets/s\"\n",
    "]\n",
    "for ii in string_features:\n",
    "    # some data in the \"Flow Bytes/s\" and \"Flow Packets/s\" columns are not numeric. This loops purpose is to fix this bug\n",
    "    df[ii] = df[ii].replace(\"Infinity\", -1)\n",
    "    df[ii] = df[ii].replace(\"NaN\", 0)\n",
    "    number_or_not = []\n",
    "    for iii in df[ii]:\n",
    "        try:\n",
    "            k = int(float(iii))\n",
    "            number_or_not.append(int(k))\n",
    "        except:\n",
    "            number_or_not.append(iii)\n",
    "    df[ii] = number_or_not"
   ],
   "metadata": {
    "collapsed": false
   }
  },
  {
   "cell_type": "code",
   "execution_count": 14,
   "outputs": [],
   "source": [
    "string_features = []\n",
    "for j in main_labels2:\n",
    "    # loop for detection of non-numeric properties (columns)\n",
    "    if df[j].dtype == \"object\":\n",
    "        string_features.append(j)\n"
   ],
   "metadata": {
    "collapsed": false
   }
  },
  {
   "cell_type": "code",
   "execution_count": 15,
   "outputs": [],
   "source": [
    "try:\n",
    "    string_features.remove(\"Label\") # The \"Label\" property was removed from the list, because it has to remain \"categorical\" for using with different machine learning approach\n",
    "except:\n",
    "    print(\"Error\") # TODO: add more specific statement here\n",
    "labelencoder_X = preprocessing.LabelEncoder()"
   ],
   "metadata": {
    "collapsed": false
   }
  },
  {
   "cell_type": "code",
   "execution_count": null,
   "outputs": [],
   "source": [],
   "metadata": {
    "collapsed": false
   }
  }
 ],
 "metadata": {
  "kernelspec": {
   "display_name": "Python 3",
   "language": "python",
   "name": "python3"
  },
  "language_info": {
   "codemirror_mode": {
    "name": "ipython",
    "version": 2
   },
   "file_extension": ".py",
   "mimetype": "text/x-python",
   "name": "python",
   "nbconvert_exporter": "python",
   "pygments_lexer": "ipython2",
   "version": "2.7.6"
  }
 },
 "nbformat": 4,
 "nbformat_minor": 0
}
